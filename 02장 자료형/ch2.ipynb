{
 "cells": [
  {
   "cell_type": "markdown",
   "metadata": {},
   "source": [
    "##### 점프 투 파이썬\n",
    "---\n",
    "02장 연습문제"
   ]
  },
  {
   "cell_type": "markdown",
   "metadata": {},
   "source": [
    "> Q1    \n",
    "``` py\n",
    "    홍길동 씨의 과목별 점수는 다음과 같다. 홍길동 씨의 평균 점수를 구해 보자.\n",
    "\n",
    "    과목\t점수\n",
    "    국어\t80\n",
    "    영어\t75\n",
    "    수학\t55   \n",
    "```"
   ]
  },
  {
   "cell_type": "code",
   "execution_count": 1,
   "metadata": {},
   "outputs": [
    {
     "name": "stdout",
     "output_type": "stream",
     "text": [
      "홍길동 씨의 평균 점수는  70.0 점 입니다.\n"
     ]
    }
   ],
   "source": [
    "korean = 80\n",
    "english = 75\n",
    "math = 55\n",
    "\n",
    "sum = korean + english + math\n",
    "Average = sum / 3\n",
    "print(\"홍길동 씨의 평균 점수는 \",Average,\"점 입니다.\")\n"
   ]
  },
  {
   "cell_type": "code",
   "execution_count": 2,
   "metadata": {},
   "outputs": [
    {
     "name": "stdout",
     "output_type": "stream",
     "text": [
      "<class 'list'>\n",
      "홍길동 씨의 평균 점수는  70.0 점 입니다.\n"
     ]
    }
   ],
   "source": [
    "# 다른 방법으로 해봅시다!!\n",
    "print(type([])) # 항상 타입을 확인해보세요.\n",
    "\n",
    "subjects = [80, 75, 55]\n",
    "total = subjects[0] + subjects[1] + subjects[2]\n",
    "#total = sum(subjects) 를 사용할수도 있다.\n",
    "avg = total/len(subjects)\n",
    "\n",
    "print(\"홍길동 씨의 평균 점수는 \",avg,\"점 입니다.\")\n"
   ]
  },
  {
   "cell_type": "code",
   "execution_count": 3,
   "metadata": {},
   "outputs": [
    {
     "name": "stdout",
     "output_type": "stream",
     "text": [
      "홍길동 씨의 평균 점수는  70.0 점 입니다.\n"
     ]
    }
   ],
   "source": [
    "# 또 다른 방법으로 해봅시다!!\n",
    "subjects = {\"국어\":80,\"영어\":75,\"수학\":55}\n",
    "total = subjects[\"국어\"] + subjects[\"수학\"] + subjects[\"영어\"]\n",
    "avg = total / len(subjects)\n",
    "\n",
    "print(\"홍길동 씨의 평균 점수는 \",avg,\"점 입니다.\")"
   ]
  },
  {
   "cell_type": "code",
   "execution_count": 5,
   "metadata": {},
   "outputs": [
    {
     "name": "stdout",
     "output_type": "stream",
     "text": [
      "백대휘 님의 총점 = 210 평균 = 70.0 입니다.\n"
     ]
    }
   ],
   "source": [
    "# 사용자로부터 이름과 성적을 입력 받아 총점과 평균을 구해 출력하는 프로그램 작성\n",
    "name = input(\"이름을 입력해주세요: \")\n",
    "korean = input(\"국어 성적을 입력해주세요: \")\n",
    "english = input(\"영어 성적을 입력해주세요: \")\n",
    "math = input(\"수학 성적을 입력해주세요: \")\n",
    "\n",
    "total = int(korean) + int(english) + int(math)\n",
    "avg = total / 3\n",
    "\n",
    "print(name, \"님의 총점 =\", total, \"평균 =\", avg, \"입니다.\")\n"
   ]
  },
  {
   "cell_type": "markdown",
   "metadata": {},
   "source": [
    "> Q2   \n",
    "``` py\n",
    "    자연수 13이 홀수인지 짝수인지 판별할 수 있는 방법에 대해 말해 보자.\n",
    "```"
   ]
  },
  {
   "cell_type": "code",
   "execution_count": 10,
   "metadata": {},
   "outputs": [
    {
     "name": "stdout",
     "output_type": "stream",
     "text": [
      "홀수입니다.\n"
     ]
    }
   ],
   "source": [
    "# 짝수냐 홀수냐 를 구하는 것\n",
    "# 짝수 = \"02468\"  홀수 = \"13579\"\n",
    "number = input(\"숫자를 입력하세요: \")\n",
    "if number[-1] in \"02468\":\n",
    "    print(\"짝수입니다.\")\n",
    "else:\n",
    "    print(\"홀수입니다.\")"
   ]
  },
  {
   "cell_type": "code",
   "execution_count": 14,
   "metadata": {},
   "outputs": [
    {
     "data": {
      "text/plain": [
       "True"
      ]
     },
     "execution_count": 14,
     "metadata": {},
     "output_type": "execute_result"
    }
   ],
   "source": [
    "# all 참\n",
    "0 < 3 and True and True and True and True and True and True and True and True and True\n",
    "\n",
    "# any 참\n",
    "100 < 200 or False or False or False or False or False or False or False or False or False"
   ]
  },
  {
   "cell_type": "code",
   "execution_count": 11,
   "metadata": {},
   "outputs": [
    {
     "name": "stdout",
     "output_type": "stream",
     "text": [
      "짝수입니다.\n"
     ]
    }
   ],
   "source": [
    "# 2n+1, 2n-1\n",
    "number = input(\"자연수를 입력해주세요: \")\n",
    "\n",
    "if int(number) % 2 == 0:\n",
    "    print(\"짝수입니다.\")\n",
    "else:\n",
    "    print(\"홀수입니다.\")"
   ]
  },
  {
   "cell_type": "markdown",
   "metadata": {},
   "source": [
    "> Q3   \n",
    "``` py   \n",
    "    홍길동 씨의 주민등록번호는 881120-1068234이다.  \n",
    "    홍길동 씨의 주민등록번호를 연월일(YYYYMMDD) 부분과 그 뒤의 숫자 부분으로 나누어 출력해 보자.\n",
    "```"
   ]
  },
  {
   "cell_type": "code",
   "execution_count": 18,
   "metadata": {},
   "outputs": [
    {
     "name": "stdout",
     "output_type": "stream",
     "text": [
      "홍길동씨의 주민번호 앞자리는 881120 입니다.\n",
      "홍길동씨의 주민번호 앞자리는 1068234 입니다.\n"
     ]
    }
   ],
   "source": [
    "number = \"881120-1068234\"\n",
    "yyyymmdd = number[:6]\n",
    "back = number[7:]\n",
    "print(\"홍길동씨의 주민번호 앞자리는\",yyyymmdd, \"입니다.\")  # 881120 출력\n",
    "print(\"홍길동씨의 주민번호 뒷자리는\",back, \"입니다.\")       # 1068234 출력"
   ]
  },
  {
   "cell_type": "markdown",
   "metadata": {},
   "source": [
    "> Q4   \n",
    "``` py   \n",
    "    주민등록번호 뒷자리의 맨 첫 번째 숫자는 성별을 나타낸다.    \n",
    "    주민등록번호에서 성별을 나타내는 숫자를 출력해 보자.   \n",
    "```"
   ]
  },
  {
   "cell_type": "code",
   "execution_count": 29,
   "metadata": {},
   "outputs": [
    {
     "name": "stdout",
     "output_type": "stream",
     "text": [
      "당신의 출생년도는 1992년\n",
      "당신의 나이는 31세\n",
      "남성입니다.\n"
     ]
    }
   ],
   "source": [
    "# 주민번호(13자리)를 입력받아 출생년도와 나이 성별을 출력해주는 프로그램을 작성하시오.\n",
    "# 사용자 입력받기\n",
    "pin = input(\"주민번호 13자리 입력하세요: \")\n",
    "# \"9201231000000\"\n",
    "#print(pin)\n",
    "\n",
    "# 출생년도 추출용\n",
    "yyyymmdd = pin[:6]\n",
    "\n",
    "#성별 추출용 \n",
    "gender = pin[6]\n",
    "\n",
    "# 출생년도\n",
    "year = \"\"\n",
    "\n",
    "# 나이\n",
    "age = 0\n",
    "\n",
    "if gender in \"12\":\n",
    "    year = '19' + yyyymmdd[:1+1]\n",
    "elif gender in '34':\n",
    "    year = '20' + yyyymmdd[:1+1]\n",
    "\n",
    "age = 2022 - int(year) + 1\n",
    "\n",
    "print(\"당신의 출생년도는 {}년\".format(year))\n",
    "print(\"당신의 나이는 {}세\".format(age))\n",
    "\n",
    "if int(gender) % 2 == 0:\n",
    "    print(\"여성입니다.\")\n",
    "else:\n",
    "    print(\"남성입니다.\")"
   ]
  },
  {
   "cell_type": "markdown",
   "metadata": {},
   "source": [
    "> Q5   \n",
    "``` py\n",
    "    다음과 같은 문자열 a:b:c:d가 있다.    \n",
    "    문자열의 replace 함수를 사용하여 a#b#c#d로 바꿔서 출력해 보자.   \n",
    "```"
   ]
  },
  {
   "cell_type": "code",
   "execution_count": 37,
   "metadata": {},
   "outputs": [
    {
     "name": "stdout",
     "output_type": "stream",
     "text": [
      "a:b:c:d\n",
      "a#b#c#d\n",
      "12/02/21\n",
      "Java Programming\n",
      "abcd abcd abcd\n",
      "a b c d "
     ]
    }
   ],
   "source": [
    "text = \"a:b:c:d\"\n",
    "print(text)\n",
    "print(\"a:b:c:d\".replace(\":\",\"#\"))\n",
    "\n",
    "tt = \"12:02:21\"\n",
    "print(tt.replace(\":\",\"/\"))\n",
    "\n",
    "te = \"Python Programming\"\n",
    "print(te.replace(\"Python\",\"Java\"))\n",
    "\n",
    "strs = \"abcd\"\n",
    "print(strs, end=\" \")\n",
    "print(strs, end=\" \")\n",
    "print(strs, end=\"\\n\")\n",
    "\n",
    "# 줄바꿈이 자동으로 되기 때문에 이스케이프문을 따로 설정해줄수 있다\n",
    "for c in \"abcd\":\n",
    "    print(c, end=\" \")"
   ]
  },
  {
   "cell_type": "markdown",
   "metadata": {},
   "source": [
    "> Q6.   \n",
    "``` py   \n",
    "    [1, 3, 5, 4, 2]라는 리스트를 [5, 4, 3, 2, 1]로 만들어보자.   \n",
    "```"
   ]
  },
  {
   "cell_type": "code",
   "execution_count": 41,
   "metadata": {},
   "outputs": [
    {
     "name": "stdout",
     "output_type": "stream",
     "text": [
      "[5, 4, 3, 2, 1]\n"
     ]
    }
   ],
   "source": [
    "li = [1,3,5,4,2]\n",
    "li.sort()\n",
    "li.reverse()\n",
    "print(li)"
   ]
  },
  {
   "cell_type": "markdown",
   "metadata": {},
   "source": [
    "> Q7.   \n",
    "``` py   \n",
    "    ['Life', 'is', 'too', 'short'] 라는 리스트를 Life is too short라는 문자열로 만들어 출력해 보자.   \n",
    "```"
   ]
  },
  {
   "cell_type": "code",
   "execution_count": 47,
   "metadata": {},
   "outputs": [
    {
     "name": "stdout",
     "output_type": "stream",
     "text": [
      "Life is too short \n"
     ]
    }
   ],
   "source": [
    "old_text = ['Life','is','too','short']\n",
    "# new_text = old_text[0] + \" \" + old_text[1] + \" \" + old_text[2] + \" \" + old_text[3]\n",
    "new_text = \"\"\n",
    "for s in old_text:\n",
    "    new_text += s + \" \"\n",
    "\n",
    "print(new_text)"
   ]
  },
  {
   "cell_type": "markdown",
   "metadata": {},
   "source": [
    "> Q8.   \n",
    "``` py   \n",
    "    (1,2,3)이라는 튜플에 4라는 값을 추가하여 (1,2,3,4)처럼 만들어 출력해 보자.   \n",
    "```"
   ]
  },
  {
   "cell_type": "code",
   "execution_count": 55,
   "metadata": {},
   "outputs": [
    {
     "name": "stdout",
     "output_type": "stream",
     "text": [
      "li = [100, 2, 3]\n",
      "(1, 2, 3, 4)\n"
     ]
    }
   ],
   "source": [
    "# []는 리스트이고, ()는 튜플이라함 차이점은?\n",
    "\n",
    "li = [1,2,3]\n",
    "tu = (1,2,3)\n",
    "\n",
    "li[0] = 100\n",
    "print(\"li =\",li)\n",
    "\n",
    "#tu[0] = 100\n",
    "#print(\"tu =\",tu)\n",
    "\n",
    "a = (1, 2, 3)\n",
    "a = a + (4,)\n",
    "print(a)  "
   ]
  },
  {
   "cell_type": "code",
   "execution_count": 50,
   "metadata": {},
   "outputs": [
    {
     "data": {
      "text/plain": [
       "'y'"
      ]
     },
     "execution_count": 50,
     "metadata": {},
     "output_type": "execute_result"
    }
   ],
   "source": [
    "# 1차원부터 3차원 배열 추출하는법\n",
    "objects = ['a', 1, True, [100, ['x', 'y']]]\n",
    "objects[3][1][1]"
   ]
  },
  {
   "cell_type": "markdown",
   "metadata": {},
   "source": [
    "> Q9.   \n",
    "``` py   \n",
    "    다음과 같은 딕셔너리 a가 있다. 다음 중 오류가 발생하는 경우는 어떤 경우인가?   \n",
    "    그리고 그 이유를 설명해 보자.   \n",
    "    >>> a = dict()   \n",
    "    >>> a   \n",
    "    {}   \n",
    "\n",
    "    다음 중 오류가 발생하는 경우를 고르고, 그 이유를 설명해 보자.   \n",
    "\n",
    "    1. a['name'] = 'python'   \n",
    "    2. a[('a',)] = 'python'   \n",
    "    3. a[[1]] = 'python'   \n",
    "    4. a[250] = 'python'   \n",
    "```"
   ]
  },
  {
   "cell_type": "code",
   "execution_count": 62,
   "metadata": {},
   "outputs": [
    {
     "name": "stdout",
     "output_type": "stream",
     "text": [
      "{'name': 'python'}\n",
      "{'name': 'python', ('a',): 'python'}\n",
      "{'name': 'python', ('a',): 'python', 250: 'python'}\n"
     ]
    }
   ],
   "source": [
    "a = dict()\n",
    "a['name'] = 'python'\n",
    "print(a)\n",
    "a[('a',)] = 'python'\n",
    "print(a)\n",
    "a[250] = 'python'\n",
    "print(a)\n",
    "# a[[1]] = 'python'\n",
    "# print(a)"
   ]
  },
  {
   "cell_type": "code",
   "execution_count": 64,
   "metadata": {},
   "outputs": [],
   "source": [
    "# text = 'python'\n",
    "# text[0] = 'J'\n",
    "# print(text)"
   ]
  },
  {
   "cell_type": "markdown",
   "metadata": {},
   "source": [
    "> Q10   \n",
    "``` py   \n",
    "    딕셔너리 a에서 'B'에 해당되는 값을 추출해 보자.   \n",
    "\n",
    "    >>> a = {'A':90, 'B':80, 'C':70}   \n",
    "    ※ 딕셔너리의 pop 함수를 사용해 보자.   \n",
    "```"
   ]
  },
  {
   "cell_type": "code",
   "execution_count": 68,
   "metadata": {},
   "outputs": [
    {
     "name": "stdout",
     "output_type": "stream",
     "text": [
      "80\n",
      "{'A': 90, 'C': 70}\n"
     ]
    }
   ],
   "source": [
    "a = {'A':90, 'B':80, 'C': 70}\n",
    "print(a.pop('B'))\n",
    "print(a)\n",
    "# 즉 pop을 사용하면, 그부분의 값이 추출되어 사라지는것을 의미"
   ]
  },
  {
   "cell_type": "markdown",
   "metadata": {},
   "source": [
    "> Q11   \n",
    "``` py   \n",
    "    a 리스트에서 중복 숫자를 제거해 보자.   \n",
    "\n",
    "    >>> a = [1, 1, 1, 2, 2, 3, 3, 3, 4, 4, 5]    \n",
    "    ※ 집합 자료형의 요솟값이 중복될 수 없다는 특징을 사용해 보자.    \n",
    "```"
   ]
  },
  {
   "cell_type": "code",
   "execution_count": 69,
   "metadata": {},
   "outputs": [
    {
     "name": "stdout",
     "output_type": "stream",
     "text": [
      "[1, 2, 3, 4, 5]\n"
     ]
    }
   ],
   "source": [
    "a = [1, 1, 1, 2, 2, 3, 3, 3, 4, 4, 5]\n",
    "aSet = set(a)     # a 리스트를 집합자료형으로 변환\n",
    "b = list(aSet)    # 집합자료형을 리스트 자료형으로 다시 변환\n",
    "print(b)          # [1,2,3,4,5] 출력"
   ]
  },
  {
   "cell_type": "markdown",
   "metadata": {},
   "source": [
    "> Q12   \n",
    "``` py   \n",
    "    파이썬은 다음처럼 동일한 값에 여러 개의 변수를 선언할 수 있다.    \n",
    "    다음과 같이 a, b 변수를 선언한 후 a의 두 번째 요솟값을 변경하면 b 값은 어떻게 될까?    \n",
    "    그리고 이런 결과가 오는 이유에 대해 설명해 보자.   \n",
    "\n",
    "    >>> a = b = [1, 2, 3]   \n",
    "    >>> a[1] = 4   \n",
    "    >>> print(b)   \n",
    "```"
   ]
  },
  {
   "cell_type": "code",
   "execution_count": 72,
   "metadata": {},
   "outputs": [
    {
     "name": "stdout",
     "output_type": "stream",
     "text": [
      "4505278848\n",
      "4505278848\n",
      "[1, 4, 3]\n",
      "[1, 4, 3]\n"
     ]
    }
   ],
   "source": [
    "a = b = [1,2,3]\n",
    "# 아래의 id확인으로 같은 객체임을 알수있다 \n",
    "print(id(a))\n",
    "print(id(b))\n",
    "\n",
    "# 즉 같은 메모리를 공유하고 있다.\n",
    "a[1] = 4\n",
    "print(a)\n",
    "print(b)"
   ]
  },
  {
   "cell_type": "code",
   "execution_count": 73,
   "metadata": {},
   "outputs": [
    {
     "name": "stdout",
     "output_type": "stream",
     "text": [
      "4505280512\n",
      "4505282176\n",
      "[1, 4, 3]\n",
      "[1, 2, 3]\n"
     ]
    }
   ],
   "source": [
    "# 하지만 아래와 같이 선언을 하면 다른 id를 가진것을 알수 있다.\n",
    "a = [1,2,3]\n",
    "b = [1,2,3]\n",
    "\n",
    "print(id(a))\n",
    "print(id(b))\n",
    "a[1] = 4\n",
    "print(a)\n",
    "print(b)"
   ]
  }
 ],
 "metadata": {
  "interpreter": {
   "hash": "4aa7a001941c8b447200068b1d71a3924cf04f02fe096f0aa27a7230a4a7f943"
  },
  "kernelspec": {
   "display_name": "Python 3.10.1 64-bit",
   "language": "python",
   "name": "python3"
  },
  "language_info": {
   "codemirror_mode": {
    "name": "ipython",
    "version": 3
   },
   "file_extension": ".py",
   "mimetype": "text/x-python",
   "name": "python",
   "nbconvert_exporter": "python",
   "pygments_lexer": "ipython3",
   "version": "3.10.1"
  },
  "orig_nbformat": 4
 },
 "nbformat": 4,
 "nbformat_minor": 2
}
