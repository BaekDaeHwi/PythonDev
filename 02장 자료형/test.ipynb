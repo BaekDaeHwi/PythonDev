{
 "cells": [
  {
   "cell_type": "markdown",
   "metadata": {},
   "source": [
    "## 1. 예시1"
   ]
  },
  {
   "cell_type": "code",
   "execution_count": 15,
   "metadata": {},
   "outputs": [
    {
     "name": "stdout",
     "output_type": "stream",
     "text": [
      "<class 'int'>\n",
      "0b1000001\n"
     ]
    },
    {
     "data": {
      "text/plain": [
       "7"
      ]
     },
     "execution_count": 15,
     "metadata": {},
     "output_type": "execute_result"
    }
   ],
   "source": [
    "#65를 i에 담는다가 아닌, 65라는 객체가 생성되고 i 라는 변수가 그 객체의 주소를 참조한다 라고할수 있다.\n",
    "i = 65;\n",
    "print(type(i))\n",
    "\n",
    "print(bin(i))\n",
    "i.bit_length()"
   ]
  },
  {
   "cell_type": "markdown",
   "metadata": {},
   "source": [
    "## 2.예시2"
   ]
  },
  {
   "cell_type": "code",
   "execution_count": 16,
   "metadata": {},
   "outputs": [
    {
     "name": "stdout",
     "output_type": "stream",
     "text": [
      "65\n",
      "66\n",
      "A\n",
      "B\n",
      "1\n"
     ]
    },
    {
     "data": {
      "text/plain": [
       "'0b1100001'"
      ]
     },
     "execution_count": 16,
     "metadata": {},
     "output_type": "execute_result"
    }
   ],
   "source": [
    "#즉 컴퓨터가 인코딩 함을 알 수 있다.\n",
    "print(ord('A'))\n",
    "print(ord(\"B\"))\n",
    "\n",
    "#oposit ways - 디코딩 함을 알수 있다.(숫자를 문자열로)\n",
    "print(chr(65))\n",
    "print(chr(66))\n",
    "\n",
    "a=0\n",
    "b=1\n",
    "c=a+b\n",
    "print(c)\n",
    "\n",
    "bin(ord('a'))"
   ]
  },
  {
   "cell_type": "markdown",
   "metadata": {},
   "source": [
    "## 3. 예시3"
   ]
  },
  {
   "cell_type": "code",
   "execution_count": 17,
   "metadata": {},
   "outputs": [
    {
     "name": "stdout",
     "output_type": "stream",
     "text": [
      "31400000000.0\n",
      "31400000000.0\n",
      "3.14e-10\n"
     ]
    }
   ],
   "source": [
    "print(3.14e10)\n",
    "\n",
    "print(3.14*(10**10))\n",
    "\n",
    "print(3.14E-10)"
   ]
  },
  {
   "cell_type": "markdown",
   "metadata": {},
   "source": [
    "## Day 02"
   ]
  },
  {
   "cell_type": "code",
   "execution_count": 18,
   "metadata": {},
   "outputs": [
    {
     "name": "stdout",
     "output_type": "stream",
     "text": [
      "C:/PythonDev/name\n"
     ]
    }
   ],
   "source": [
    "path = \"C:\\\\PythonDev\\\\name\"\n",
    "path = \"C:/PythonDev/name\"\n",
    "\n",
    "print(path)"
   ]
  },
  {
   "cell_type": "code",
   "execution_count": 20,
   "metadata": {},
   "outputs": [
    {
     "data": {
      "text/plain": [
       "'❤'"
      ]
     },
     "execution_count": 20,
     "metadata": {},
     "output_type": "execute_result"
    }
   ],
   "source": [
    "\"❤️\" * 10\n",
    "ord('A')\n",
    "ord('한')\n",
    "\n",
    "\n",
    "chr(10084)"
   ]
  },
  {
   "cell_type": "markdown",
   "metadata": {},
   "source": [
    "##  인덱싱"
   ]
  },
  {
   "cell_type": "code",
   "execution_count": null,
   "metadata": {},
   "outputs": [
    {
     "data": {
      "text/plain": [
       "'Python'"
      ]
     },
     "execution_count": 5,
     "metadata": {},
     "output_type": "execute_result"
    }
   ],
   "source": [
    "#       0123456789012345678901234567890123\n",
    "text = \"Life is too short, You need Python\"\n",
    "text[-1] == text[33] # 참이 나올것이다.\n",
    "# text[시작인덱스 : 끝 인덱스] = 시작은  <= 이고, 끝은 < 로 해당된다.\n",
    "text[0:4]\n",
    "text[28:]"
   ]
  },
  {
   "cell_type": "code",
   "execution_count": null,
   "metadata": {},
   "outputs": [
    {
     "name": "stdout",
     "output_type": "stream",
     "text": [
      "영희님의 국어 점수는 90점 입니다.\n",
      "철수님의 국어 점수는 80점 입니다.\n",
      "길동님의 국어 점수는 70점 입니다.\n"
     ]
    }
   ],
   "source": [
    "# 문자열 포맷팅\n",
    "name = [\"영희\",\"철수\",\"길동\"]\n",
    "subject = \"국어\"\n",
    "score = [90,80,70]\n",
    "\n",
    "for n in range(len(name)):\n",
    "    text = \"%s님의 %s 점수는 %d점 입니다.\" %(name[n],subject,score[n])\n",
    "    print(text)"
   ]
  },
  {
   "cell_type": "code",
   "execution_count": null,
   "metadata": {},
   "outputs": [
    {
     "name": "stdout",
     "output_type": "stream",
     "text": [
      "영희님의 수학 점수는 95점 입니다.\n"
     ]
    }
   ],
   "source": [
    "# \"문자열\".format()\n",
    "name = \"영희\"\n",
    "sub = \"수학\"\n",
    "score = 95\n",
    "# 중괄호 안에 인덱스넘버를 지정해줘도 가능하다.\n",
    "text = \"{}님의 {} 점수는 {}점 입니다.\".format(name,sub,score)\n",
    "print(text)"
   ]
  },
  {
   "cell_type": "code",
   "execution_count": null,
   "metadata": {},
   "outputs": [
    {
     "name": "stdout",
     "output_type": "stream",
     "text": [
      "영희님의 수학 점수는 95점 입니다.\n"
     ]
    }
   ],
   "source": [
    "name = \"영희\"\n",
    "sub = \"수학\"\n",
    "score = 95\n",
    "\n",
    "text = f\"{name}님의 {sub} 점수는 {score}점 입니다.\"\n",
    "print(text)"
   ]
  }
 ],
 "metadata": {
  "interpreter": {
   "hash": "aee8b7b246df8f9039afb4144a1f6fd8d2ca17a180786b69acc140d282b71a49"
  },
  "kernelspec": {
   "display_name": "Python 3.10.1 64-bit",
   "language": "python",
   "name": "python3"
  },
  "language_info": {
   "codemirror_mode": {
    "name": "ipython",
    "version": 3
   },
   "file_extension": ".py",
   "mimetype": "text/x-python",
   "name": "python",
   "nbconvert_exporter": "python",
   "pygments_lexer": "ipython3",
   "version": "3.10.1"
  },
  "orig_nbformat": 4
 },
 "nbformat": 4,
 "nbformat_minor": 2
}
