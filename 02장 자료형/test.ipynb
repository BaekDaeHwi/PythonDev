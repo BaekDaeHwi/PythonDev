{
 "cells": [
  {
   "cell_type": "markdown",
   "metadata": {},
   "source": [
    "## 1. 예시1"
   ]
  },
  {
   "cell_type": "code",
   "execution_count": 23,
   "metadata": {},
   "outputs": [
    {
     "name": "stdout",
     "output_type": "stream",
     "text": [
      "<class 'int'>\n",
      "0b1000001\n"
     ]
    },
    {
     "data": {
      "text/plain": [
       "7"
      ]
     },
     "execution_count": 23,
     "metadata": {},
     "output_type": "execute_result"
    }
   ],
   "source": [
    "#65를 i에 담는다가 아닌, 65라는 객체가 생성되고 i 라는 변수가 그 객체의 주소를 참조한다 라고할수 있다.\n",
    "i = 65;\n",
    "print(type(i))\n",
    "\n",
    "print(bin(i))\n",
    "i.bit_length()"
   ]
  },
  {
   "cell_type": "markdown",
   "metadata": {},
   "source": [
    "## 2.예시2"
   ]
  },
  {
   "cell_type": "code",
   "execution_count": 24,
   "metadata": {},
   "outputs": [
    {
     "name": "stdout",
     "output_type": "stream",
     "text": [
      "65\n",
      "66\n",
      "A\n",
      "B\n",
      "1\n"
     ]
    },
    {
     "data": {
      "text/plain": [
       "'0b1100001'"
      ]
     },
     "execution_count": 24,
     "metadata": {},
     "output_type": "execute_result"
    }
   ],
   "source": [
    "#즉 컴퓨터가 인코딩 함을 알 수 있다.\n",
    "print(ord('A'))\n",
    "print(ord(\"B\"))\n",
    "\n",
    "#oposit ways - 디코딩 함을 알수 있다.(숫자를 문자열로)\n",
    "print(chr(65))\n",
    "print(chr(66))\n",
    "\n",
    "a=0\n",
    "b=1\n",
    "c=a+b\n",
    "print(c)\n",
    "\n",
    "bin(ord('a'))"
   ]
  },
  {
   "cell_type": "markdown",
   "metadata": {},
   "source": [
    "## 3. 예시3"
   ]
  },
  {
   "cell_type": "code",
   "execution_count": 33,
   "metadata": {},
   "outputs": [
    {
     "name": "stdout",
     "output_type": "stream",
     "text": [
      "31400000000.0\n",
      "31400000000.0\n",
      "3.14e-10\n"
     ]
    }
   ],
   "source": [
    "print(3.14e10)\n",
    "\n",
    "print(3.14*(10**10))\n",
    "\n",
    "print(3.14E-10)"
   ]
  }
 ],
 "metadata": {
  "interpreter": {
   "hash": "aee8b7b246df8f9039afb4144a1f6fd8d2ca17a180786b69acc140d282b71a49"
  },
  "kernelspec": {
   "display_name": "Python 3.10.1 64-bit",
   "language": "python",
   "name": "python3"
  },
  "language_info": {
   "codemirror_mode": {
    "name": "ipython",
    "version": 3
   },
   "file_extension": ".py",
   "mimetype": "text/x-python",
   "name": "python",
   "nbconvert_exporter": "python",
   "pygments_lexer": "ipython3",
   "version": "3.10.1"
  },
  "orig_nbformat": 4
 },
 "nbformat": 4,
 "nbformat_minor": 2
}
